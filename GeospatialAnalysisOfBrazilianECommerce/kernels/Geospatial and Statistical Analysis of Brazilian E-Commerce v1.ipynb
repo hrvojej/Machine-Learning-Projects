{
 "cells": [
  {
   "cell_type": "markdown",
   "metadata": {
    "_uuid": "88f0256f80c9e0f0735eb16822c8930ce50144f6"
   },
   "source": [
    "# Geospatial and Statistical Analysis of Brazilian E-Commerce v1\n",
    "\n",
    "This is modification of kernel\n",
    "https://www.kaggle.com/andresionek/geospatial-analysis-of-brazilian-e-commerce\n",
    "by Andre Sionek\n",
    "\n",
    "### Added Statistical Analysis\n",
    "\n",
    "* Sorted index of sales per states\n",
    "* Sorted index of sales per cities\n",
    "\n",
    "#### Various modifications of Geospatial Analysis\n",
    "\n",
    "----\n",
    "\n",
    "Olist has released a dataset with 100k orders made between 2016 and 2018. Each order has some information about the customer and contains the first three digits of the customer zip code. Olist has also released a geolocation database that has 323k lat/lng coordinates related to the first three digits of each zip code.\n",
    "\n",
    "## CEP: the Brazilian Zip Code\n",
    "A brazilian zip code, also know as CEP, stands for Postal Adressing Code (*Código de Endereçamento Postal*) and contains 8 digits. Introduced in 1972 as a sequence of five digits, it was expanded to eight digits in 1992 to allow for more precise localization. The standard format is \"nnnnn-nnn\" (the original five digits, an hyphen, and the new three digits).\n",
    "\n",
    "**CEP:** 12.345-678\n",
    "\n",
    "Most cities with population around 100,000 and above have a CEP assigned to every public place and to some high-occupancy private spaces, like major commercial buildings and large residential condos. Small towns are assigned a general 5-digit code followed by the suffix -000. \n",
    "\n",
    "* the first part is composed by 5 digits that represent Region, Subregion, Sector, Subsector and Subsector Splitter.\n",
    "* the second part contain 3 digits, separated by an hyphen from the first, and it represents the Distribution Identifiers.\n",
    "\n",
    "More info about how CEP works may be found at the [Correios website](https://www.correios.com.br/a-a-z/cep-codigo-de-enderecamento-postal).\n",
    "\n",
    "Lets look at the geolocation dataset provided by Olist and try to understand how CEP works geographically."
   ]
  },
  {
   "cell_type": "code",
   "execution_count": 25,
   "metadata": {
    "scrolled": false
   },
   "outputs": [
    {
     "data": {
      "text/plain": [
       "['olist_customers_dataset.csv',\n",
       " 'olist_geolocation_dataset.csv',\n",
       " 'olist_orders_dataset.csv',\n",
       " 'olist_order_items_dataset.csv',\n",
       " 'olist_order_payments_dataset.csv',\n",
       " 'olist_order_reviews_dataset.csv',\n",
       " 'olist_products_dataset.csv',\n",
       " 'olist_sellers_dataset.csv',\n",
       " 'product_category_name_translation.csv']"
      ]
     },
     "execution_count": 25,
     "metadata": {},
     "output_type": "execute_result"
    }
   ],
   "source": [
    "import os\n",
    "os.listdir(\"../input\")"
   ]
  },
  {
   "cell_type": "code",
   "execution_count": 26,
   "metadata": {
    "_cell_guid": "b1076dfc-b9ad-4769-8c92-a6c4dae69d19",
    "_kg_hide-input": true,
    "_uuid": "8f2839f25d086af736a60e9eeb907d3b93b6e0e5",
    "scrolled": false
   },
   "outputs": [
    {
     "data": {
      "text/html": [
       "<div>\n",
       "<style scoped>\n",
       "    .dataframe tbody tr th:only-of-type {\n",
       "        vertical-align: middle;\n",
       "    }\n",
       "\n",
       "    .dataframe tbody tr th {\n",
       "        vertical-align: top;\n",
       "    }\n",
       "\n",
       "    .dataframe thead th {\n",
       "        text-align: right;\n",
       "    }\n",
       "</style>\n",
       "<table border=\"1\" class=\"dataframe\">\n",
       "  <thead>\n",
       "    <tr style=\"text-align: right;\">\n",
       "      <th></th>\n",
       "      <th>geolocation_zip_code_prefix</th>\n",
       "      <th>geolocation_lat</th>\n",
       "      <th>geolocation_lng</th>\n",
       "      <th>geolocation_city</th>\n",
       "      <th>geolocation_state</th>\n",
       "    </tr>\n",
       "  </thead>\n",
       "  <tbody>\n",
       "    <tr>\n",
       "      <th>0</th>\n",
       "      <td>1037</td>\n",
       "      <td>-23.545621</td>\n",
       "      <td>-46.639292</td>\n",
       "      <td>sao paulo</td>\n",
       "      <td>SP</td>\n",
       "    </tr>\n",
       "    <tr>\n",
       "      <th>1</th>\n",
       "      <td>1046</td>\n",
       "      <td>-23.546081</td>\n",
       "      <td>-46.644820</td>\n",
       "      <td>sao paulo</td>\n",
       "      <td>SP</td>\n",
       "    </tr>\n",
       "    <tr>\n",
       "      <th>2</th>\n",
       "      <td>1046</td>\n",
       "      <td>-23.546129</td>\n",
       "      <td>-46.642951</td>\n",
       "      <td>sao paulo</td>\n",
       "      <td>SP</td>\n",
       "    </tr>\n",
       "    <tr>\n",
       "      <th>3</th>\n",
       "      <td>1041</td>\n",
       "      <td>-23.544392</td>\n",
       "      <td>-46.639499</td>\n",
       "      <td>sao paulo</td>\n",
       "      <td>SP</td>\n",
       "    </tr>\n",
       "    <tr>\n",
       "      <th>4</th>\n",
       "      <td>1035</td>\n",
       "      <td>-23.541578</td>\n",
       "      <td>-46.641607</td>\n",
       "      <td>sao paulo</td>\n",
       "      <td>SP</td>\n",
       "    </tr>\n",
       "    <tr>\n",
       "      <th>5</th>\n",
       "      <td>1012</td>\n",
       "      <td>-23.547762</td>\n",
       "      <td>-46.635361</td>\n",
       "      <td>são paulo</td>\n",
       "      <td>SP</td>\n",
       "    </tr>\n",
       "    <tr>\n",
       "      <th>6</th>\n",
       "      <td>1047</td>\n",
       "      <td>-23.546273</td>\n",
       "      <td>-46.641225</td>\n",
       "      <td>sao paulo</td>\n",
       "      <td>SP</td>\n",
       "    </tr>\n",
       "    <tr>\n",
       "      <th>7</th>\n",
       "      <td>1013</td>\n",
       "      <td>-23.546923</td>\n",
       "      <td>-46.634264</td>\n",
       "      <td>sao paulo</td>\n",
       "      <td>SP</td>\n",
       "    </tr>\n",
       "    <tr>\n",
       "      <th>8</th>\n",
       "      <td>1029</td>\n",
       "      <td>-23.543769</td>\n",
       "      <td>-46.634278</td>\n",
       "      <td>sao paulo</td>\n",
       "      <td>SP</td>\n",
       "    </tr>\n",
       "    <tr>\n",
       "      <th>9</th>\n",
       "      <td>1011</td>\n",
       "      <td>-23.547640</td>\n",
       "      <td>-46.636032</td>\n",
       "      <td>sao paulo</td>\n",
       "      <td>SP</td>\n",
       "    </tr>\n",
       "  </tbody>\n",
       "</table>\n",
       "</div>"
      ],
      "text/plain": [
       "   geolocation_zip_code_prefix  geolocation_lat  geolocation_lng  \\\n",
       "0                         1037       -23.545621       -46.639292   \n",
       "1                         1046       -23.546081       -46.644820   \n",
       "2                         1046       -23.546129       -46.642951   \n",
       "3                         1041       -23.544392       -46.639499   \n",
       "4                         1035       -23.541578       -46.641607   \n",
       "5                         1012       -23.547762       -46.635361   \n",
       "6                         1047       -23.546273       -46.641225   \n",
       "7                         1013       -23.546923       -46.634264   \n",
       "8                         1029       -23.543769       -46.634278   \n",
       "9                         1011       -23.547640       -46.636032   \n",
       "\n",
       "  geolocation_city geolocation_state  \n",
       "0        sao paulo                SP  \n",
       "1        sao paulo                SP  \n",
       "2        sao paulo                SP  \n",
       "3        sao paulo                SP  \n",
       "4        sao paulo                SP  \n",
       "5        são paulo                SP  \n",
       "6        sao paulo                SP  \n",
       "7        sao paulo                SP  \n",
       "8        sao paulo                SP  \n",
       "9        sao paulo                SP  "
      ]
     },
     "execution_count": 26,
     "metadata": {},
     "output_type": "execute_result"
    }
   ],
   "source": [
    "import numpy as np\n",
    "import pandas as pd \n",
    "\n",
    "geo = pd.read_csv(\"../input/olist_geolocation_dataset.csv\")\n",
    "geo.head(10)"
   ]
  },
  {
   "cell_type": "markdown",
   "metadata": {
    "_uuid": "e1e63fb28b8af9ea329bb286e13d641f12b9688a"
   },
   "source": [
    "There are 851 different zip_code_prefix. They are all limited to 500 samples per zip_code_prefix. On average there are 380 coordinates for each prefix."
   ]
  },
  {
   "cell_type": "markdown",
   "metadata": {},
   "source": [
    "### Index of sales per state"
   ]
  },
  {
   "cell_type": "code",
   "execution_count": 27,
   "metadata": {
    "_cell_guid": "79c7e3d0-c299-4dcb-8224-4455121ee9b0",
    "_kg_hide-input": false,
    "_uuid": "d629ff2d2480ee46fbb7e2d37f6b5fab8052498a",
    "scrolled": false
   },
   "outputs": [
    {
     "name": "stdout",
     "output_type": "stream",
     "text": [
      "Sorted Geolocation State Index\n",
      "[['SP' 404268]\n",
      " ['MG' 126336]\n",
      " ['RJ' 121169]\n",
      " ['RS' 61851]\n",
      " ['PR' 57859]\n",
      " ['SC' 38328]\n",
      " ['BA' 36045]\n",
      " ['GO' 20139]\n",
      " ['ES' 16748]\n",
      " ['PE' 16432]\n",
      " ['DF' 12986]\n",
      " ['MT' 12031]\n",
      " ['CE' 11674]\n",
      " ['PA' 10853]\n",
      " ['MS' 10431]\n",
      " ['MA' 7853]\n",
      " ['PB' 5538]\n",
      " ['RN' 5041]\n",
      " ['PI' 4549]\n",
      " ['AL' 4183]\n",
      " ['TO' 3576]\n",
      " ['SE' 3563]\n",
      " ['RO' 3478]\n",
      " ['AM' 2432]\n",
      " ['AC' 1301]\n",
      " ['AP' 853]\n",
      " ['RR' 646]]\n"
     ]
    }
   ],
   "source": [
    "geolocation_state = geo['geolocation_state']\n",
    "uniqueGs, countsGs = np.unique(geolocation_state, return_counts=True)\n",
    "geolocation_state_index = np.asarray((uniqueGs, countsGs)).T\n",
    "\n",
    "geolocation_state_index_sorted = geolocation_state_index[geolocation_state_index[:,1].argsort()[::-1]]\n",
    "\n",
    "print (\"Sorted Geolocation State Index\")\n",
    "print(geolocation_state_index_sorted)"
   ]
  },
  {
   "cell_type": "code",
   "execution_count": 52,
   "metadata": {
    "scrolled": false
   },
   "outputs": [
    {
     "name": "stdout",
     "output_type": "stream",
     "text": [
      "[['SP']\n",
      " ['MG']\n",
      " ['RJ']\n",
      " ['RS']\n",
      " ['PR']\n",
      " ['SC']\n",
      " ['BA']\n",
      " ['GO']\n",
      " ['ES']\n",
      " ['PE']\n",
      " ['DF']\n",
      " ['MT']\n",
      " ['CE']\n",
      " ['PA']\n",
      " ['MS']\n",
      " ['MA']\n",
      " ['PB']\n",
      " ['RN']\n",
      " ['PI']\n",
      " ['AL']\n",
      " ['TO']\n",
      " ['SE']\n",
      " ['RO']\n",
      " ['AM']\n",
      " ['AC']\n",
      " ['AP']\n",
      " ['RR']]\n"
     ]
    }
   ],
   "source": [
    "print(geolocation_state_index_sorted[:, [0]])"
   ]
  },
  {
   "cell_type": "code",
   "execution_count": 89,
   "metadata": {},
   "outputs": [
    {
     "data": {
      "image/png": "[encoded data removed]",
      "text/plain": [
       "<Figure size 720x720 with 1 Axes>"
      ]
     },
     "metadata": {},
     "output_type": "display_data"
    }
   ],
   "source": [
    "import pandas as pd\n",
    "import seaborn as sns\n",
    "import matplotlib.pyplot as plt\n",
    "\n",
    "sns.set(style=\"whitegrid\")\n",
    "sns.set(style=\"ticks\")\n",
    "#pd.DataFrame(clean_data, columns=['x', 'y'])\n",
    "plt.figure(figsize=(10,10))\n",
    "\n",
    "geolocation_state_index_sortedPD = pd.DataFrame(geolocation_state_index_sorted, columns=['x','y'])\n",
    "\n",
    "ax = sns.barplot('y', 'x', data=geolocation_state_index_sortedPD)\n"
   ]
  },
  {
   "cell_type": "code",
   "execution_count": 86,
   "metadata": {},
   "outputs": [
    {
     "name": "stderr",
     "output_type": "stream",
     "text": [
      "C:\\Users\\hrvoje.jerkovic.ALGEBRA\\AppData\\Local\\Continuum\\anaconda3\\lib\\site-packages\\seaborn\\regression.py:546: UserWarning: The `size` paramter has been renamed to `height`; please update your code.\n",
      "  warnings.warn(msg, UserWarning)\n"
     ]
    },
    {
     "data": {
      "text/plain": [
       "<seaborn.axisgrid.FacetGrid at 0x18f32780b70>"
      ]
     },
     "execution_count": 86,
     "metadata": {},
     "output_type": "execute_result"
    },
    {
     "data": {
      "image/png": "[encoded data removed]",
      "text/plain": [
       "<Figure size 864x288 with 1 Axes>"
      ]
     },
     "metadata": {},
     "output_type": "display_data"
    }
   ],
   "source": [
    "sns.lmplot('x', 'y', data=geolocation_state_index_sortedPD, fit_reg=False, size=4, aspect=3)"
   ]
  },
  {
   "cell_type": "code",
   "execution_count": 75,
   "metadata": {},
   "outputs": [
    {
     "name": "stderr",
     "output_type": "stream",
     "text": [
      "C:\\Users\\hrvoje.jerkovic.ALGEBRA\\AppData\\Local\\Continuum\\anaconda3\\lib\\site-packages\\scipy\\stats\\stats.py:1713: FutureWarning: Using a non-tuple sequence for multidimensional indexing is deprecated; use `arr[tuple(seq)]` instead of `arr[seq]`. In the future this will be interpreted as an array index, `arr[np.array(seq)]`, which will result either in an error or a different result.\n",
      "  return np.add.reduce(sorted[indexer] * weights, axis=axis) / sumval\n"
     ]
    },
    {
     "data": {
      "text/plain": [
       "<matplotlib.axes._subplots.AxesSubplot at 0x18f32953d30>"
      ]
     },
     "execution_count": 75,
     "metadata": {},
     "output_type": "execute_result"
    },
    {
     "data": {
      "image/png": "[encoded data removed]",
      "text/plain": [
       "<Figure size 432x288 with 1 Axes>"
      ]
     },
     "metadata": {},
     "output_type": "display_data"
    }
   ],
   "source": [
    "sns.kdeplot(df.y)"
   ]
  },
  {
   "cell_type": "code",
   "execution_count": 76,
   "metadata": {},
   "outputs": [
    {
     "data": {
      "image/png": "[encoded data removed]",
      "text/plain": [
       "<Figure size 432x288 with 1 Axes>"
      ]
     },
     "metadata": {},
     "output_type": "display_data"
    }
   ],
   "source": [
    "plt.hist(df.x, alpha=.3)\n",
    "sns.rugplot(df.x);"
   ]
  },
  {
   "cell_type": "code",
   "execution_count": null,
   "metadata": {
    "scrolled": false
   },
   "outputs": [],
   "source": [
    "\n",
    "# Initialize the matplotlib figure\n",
    "f, ax = plt.subplots(figsize=(6, 15))\n",
    "\n",
    "#sns.barplot(x=Data.Year,y=Data.Salary) //year and salary attributes were present in my dataset.\n",
    "\n",
    "# Load the example car crash dataset\n",
    "xs = geolocation_state_index_sorted[1]\n",
    "ys = geolocation_state_index_sorted[0]\n",
    "# Plot the total crashes\n",
    "sns.set_color_codes(\"pastel\")\n",
    "sns.barplot(ys, xs, label=\"Total sales per city\", color=\"b\")\n",
    "\n",
    "\n",
    "# Add a legend and informative axis label\n",
    "ax.legend(ncol=2, loc=\"lower right\", frameon=True)\n",
    "ax.set(xlim=(0, 24), ylabel=\"\",\n",
    "       xlabel=\"Sales Analysis\")\n",
    "sns.despine(left=True, bottom=True)"
   ]
  },
  {
   "cell_type": "markdown",
   "metadata": {},
   "source": [
    "### Index of sales per city"
   ]
  },
  {
   "cell_type": "code",
   "execution_count": 9,
   "metadata": {
    "scrolled": false
   },
   "outputs": [
    {
     "name": "stdout",
     "output_type": "stream",
     "text": [
      "#100 cities sorted by sales per city\n",
      "[['sao paulo' 135800]\n",
      " ['rio de janeiro' 62151]\n",
      " ['belo horizonte' 27805]\n",
      " ['são paulo' 24918]\n",
      " ['curitiba' 16593]\n",
      " ['porto alegre' 13521]\n",
      " ['salvador' 11865]\n",
      " ['guarulhos' 11340]\n",
      " ['brasilia' 10470]\n",
      " ['sao bernardo do campo' 8112]\n",
      " ['osasco' 7658]\n",
      " ['santo andre' 6863]\n",
      " ['niteroi' 6534]\n",
      " ['recife' 6168]\n",
      " ['goiania' 5661]\n",
      " ['fortaleza' 5538]\n",
      " ['campinas' 5479]\n",
      " ['sorocaba' 5361]\n",
      " ['santos' 5000]\n",
      " ['barueri' 4971]\n",
      " ['juiz de fora' 4679]\n",
      " ['contagem' 4395]\n",
      " ['campo grande' 4332]\n",
      " ['ribeirao preto' 4187]\n",
      " ['florianopolis' 4148]\n",
      " ['nova iguacu' 4022]\n",
      " ['mogi das cruzes' 3913]\n",
      " ['belem' 3789]\n",
      " ['sao jose dos campos' 3759]\n",
      " ['sao goncalo' 3601]\n",
      " ['uberlandia' 3520]\n",
      " ['vitoria' 3478]\n",
      " ['duque de caxias' 3444]\n",
      " ['bauru' 3270]\n",
      " ['sao jose do rio preto' 3190]\n",
      " ['londrina' 3144]\n",
      " ['carapicuiba' 3041]\n",
      " ['diadema' 2986]\n",
      " ['praia grande' 2952]\n",
      " ['joinville' 2922]\n",
      " ['campos dos goytacazes' 2840]\n",
      " ['maua' 2651]\n",
      " ['maringa' 2514]\n",
      " ['sao luis' 2506]\n",
      " ['sao caetano do sul' 2462]\n",
      " ['blumenau' 2450]\n",
      " ['caxias do sul' 2407]\n",
      " ['cotia' 2317]\n",
      " ['volta redonda' 2300]\n",
      " ['taubate' 2298]\n",
      " ['suzano' 2260]\n",
      " ['montes claros' 2229]\n",
      " ['aracaju' 2211]\n",
      " ['brasília' 2180]\n",
      " ['betim' 2176]\n",
      " ['natal' 2171]\n",
      " ['guaruja' 2168]\n",
      " ['cuiaba' 2142]\n",
      " ['uberaba' 2104]\n",
      " ['jundiai' 2087]\n",
      " ['pelotas' 2067]\n",
      " ['maceio' 2053]\n",
      " ['vila velha' 2048]\n",
      " ['santa maria' 2040]\n",
      " ['franca' 2005]\n",
      " ['indaiatuba' 1999]\n",
      " ['petropolis' 1999]\n",
      " ['manaus' 1973]\n",
      " ['sao carlos' 1971]\n",
      " ['canoas' 1958]\n",
      " ['taboao da serra' 1931]\n",
      " ['joao pessoa' 1916]\n",
      " ['araraquara' 1903]\n",
      " ['santana de parnaiba' 1896]\n",
      " ['macae' 1853]\n",
      " ['feira de santana' 1846]\n",
      " ['teresina' 1843]\n",
      " ['governador valadares' 1823]\n",
      " ['piracicaba' 1774]\n",
      " ['cascavel' 1760]\n",
      " ['presidente prudente' 1753]\n",
      " ['itaquaquecetuba' 1733]\n",
      " ['ipatinga' 1685]\n",
      " ['rio claro' 1682]\n",
      " ['marilia' 1650]\n",
      " ['serra' 1609]\n",
      " ['sao vicente' 1606]\n",
      " ['são bernardo do campo' 1517]\n",
      " ['sao jose' 1498]\n",
      " ['embu das artes' 1481]\n",
      " ['ponta grossa' 1477]\n",
      " ['rio grande' 1458]\n",
      " ['itapevi' 1400]\n",
      " ['novo hamburgo' 1398]\n",
      " ['jacarei' 1397]\n",
      " ['cabo frio' 1394]\n",
      " ['nova friburgo' 1348]\n",
      " ['passo fundo' 1338]\n",
      " ['rio das ostras' 1333]\n",
      " ['braganca paulista' 1330]]\n"
     ]
    }
   ],
   "source": [
    "geolocation_city = geo['geolocation_city']\n",
    "uniqueGc, countGc = np.unique(geolocation_city, return_counts=True)\n",
    "geolocation_city_index = np.array((uniqueGc, countGc)).T\n",
    "\n",
    "# Sorting\n",
    "geolocation_city_index_sorted = geolocation_city_index[geolocation_city_index[:,1].argsort()[::-1]]\n",
    "# Top 100 cities\n",
    "\n",
    "print (\"#100 cities sorted by sales per city\")\n",
    "print(geolocation_city_index_sorted[0:100,:])\n"
   ]
  },
  {
   "cell_type": "code",
   "execution_count": 44,
   "metadata": {
    "scrolled": false
   },
   "outputs": [
    {
     "data": {
      "text/plain": [
       "array(['geolocation_state'], dtype='<U17')"
      ]
     },
     "execution_count": 44,
     "metadata": {},
     "output_type": "execute_result"
    }
   ],
   "source": []
  },
  {
   "cell_type": "markdown",
   "metadata": {
    "_uuid": "95b7f77044cc9a7e2e5974acab21eb8284530abc"
   },
   "source": [
    "There are some outliers coordinates in the dataset that are outside of brazilian territory. Lets guarantee that all coordinates are within a rectangle delimited by the limits of Brazil."
   ]
  },
  {
   "cell_type": "code",
   "execution_count": null,
   "metadata": {
    "_kg_hide-input": false,
    "_kg_hide-output": true,
    "_uuid": "0b598dc0db57520506d14c5674e1db28be514f9a",
    "scrolled": false
   },
   "outputs": [],
   "source": [
    "# Removing some outliers\n",
    "#Brazils most Northern spot is at 5 deg 16′ 27.8″ N latitude.;\n",
    "geo = geo[geo.lat <= 5.27438888]\n",
    "#it’s most Western spot is at 73 deg, 58′ 58.19″W Long.\n",
    "geo = geo[geo.lng >= -73.98283055]\n",
    "#It’s most southern spot is at 33 deg, 45′ 04.21″ S Latitude.\n",
    "geo = geo[geo.lat >= -33.75116944]\n",
    "#It’s most Eastern spot is 34 deg, 47′ 35.33″ W Long.\n",
    "geo = geo[geo.lng <=  -34.79314722]"
   ]
  },
  {
   "cell_type": "code",
   "execution_count": null,
   "metadata": {
    "_kg_hide-input": true,
    "_kg_hide-output": true,
    "_uuid": "61fb1b5898ab2f89bb1eebfae8be01a4432f230b",
    "scrolled": false
   },
   "outputs": [],
   "source": [
    "from datashader.utils import lnglat_to_meters as webm\n",
    "x, y = webm(geo['lng'], geo['lat'])\n",
    "geo['x'] = pd.Series(x)\n",
    "geo['y'] = pd.Series(y)"
   ]
  },
  {
   "cell_type": "markdown",
   "metadata": {
    "_uuid": "37bc1ad1fcb49556471ee06a81bc23a7bdfc1474"
   },
   "source": [
    "Then we treat the latitute and longitude coordinates and transform then to Mercator x/y Coordinates."
   ]
  },
  {
   "cell_type": "code",
   "execution_count": null,
   "metadata": {
    "_kg_hide-input": true,
    "_uuid": "a9798809645db61ea03cba0ca62e8e76f491f87c",
    "scrolled": false
   },
   "outputs": [],
   "source": [
    "geo.head(3)"
   ]
  },
  {
   "cell_type": "markdown",
   "metadata": {
    "_uuid": "907f21948b5f00a90420759771988784a655dce5"
   },
   "source": [
    "## Zip Codes in Brazil\n",
    "Finally plotting the coordinates on a map. We see there is a relationship between the zip code prefix and the location of that zip code. They start in Sao Paulo, with prefix 010, and then increase counterclockwise finishing in Rio Grande do Sul (south of Brazil), with prefix 999."
   ]
  },
  {
   "cell_type": "code",
   "execution_count": null,
   "metadata": {
    "_kg_hide-input": false,
    "_uuid": "3a661011273963256b07bf22faa773b43b2f33f9",
    "scrolled": false
   },
   "outputs": [],
   "source": [
    "brazil = geo\n",
    "agg_name = 'zip_code_prefix'\n",
    "brazil[agg_name].describe().to_frame()"
   ]
  },
  {
   "cell_type": "code",
   "execution_count": null,
   "metadata": {
    "_kg_hide-input": true,
    "_kg_hide-output": true,
    "_uuid": "f7528ab72ba84d3436f23573cc14c98721fb2331",
    "scrolled": false
   },
   "outputs": [],
   "source": [
    "# plot wtih holoviews + datashader - bokeh with map background\n",
    "import holoviews as hv\n",
    "import geoviews as gv\n",
    "import datashader as ds\n",
    "from colorcet import fire, rainbow, bgy, bjy, bkr, kb, kr\n",
    "from holoviews.streams import RangeXY\n",
    "from holoviews.operation.datashader import datashade, dynspread, rasterize\n",
    "from bokeh.io import push_notebook, show, output_notebook\n",
    "output_notebook()\n",
    "hv.extension('bokeh')"
   ]
  },
  {
   "cell_type": "code",
   "execution_count": null,
   "metadata": {
    "_kg_hide-input": true,
    "_kg_hide-output": true,
    "_uuid": "17f24ed6bc95546a84cadb9f0ec8e7153346df3c",
    "scrolled": false
   },
   "outputs": [],
   "source": [
    "%opts Overlay [width=800 height=600 toolbar='above' xaxis=None yaxis=None]\n",
    "%opts QuadMesh [tools=['hover'] colorbar=True] (alpha=0 hover_alpha=0.2)\n",
    "\n",
    "T = 0.05\n",
    "PX = 1\n",
    "\n",
    "def plot_map(data, label, agg_data, agg_name, cmap):\n",
    "    url=\"http://server.arcgisonline.com/ArcGIS/rest/services/Canvas/World_Dark_Gray_Base/MapServer/tile/{Z}/{Y}/{X}.png\"\n",
    "    geomap = gv.WMTS(url)\n",
    "    points = hv.Points(gv.Dataset(data, kdims=['x', 'y'], vdims=[agg_name]))\n",
    "    agg = datashade(points, element_type=gv.Image, aggregator=agg_data, cmap=cmap)\n",
    "    zip_codes = dynspread(agg, threshold=T, max_px=PX)\n",
    "    hover = hv.util.Dynamic(rasterize(points, aggregator=agg_data, width=50, height=25, streams=[RangeXY]), operation=hv.QuadMesh)\n",
    "    hover = hover.options(cmap=cmap)\n",
    "    img = geomap * zip_codes * hover\n",
    "    img = img.relabel(label)\n",
    "    return img"
   ]
  },
  {
   "cell_type": "code",
   "execution_count": null,
   "metadata": {
    "_kg_hide-input": true,
    "_uuid": "40344e0ab331b850c6ffca6406d3489657a576f5",
    "scrolled": false
   },
   "outputs": [],
   "source": [
    "plot_map(brazil, 'Zip Codes in Brazil', ds.min(agg_name), agg_name, cmap=rainbow)"
   ]
  },
  {
   "cell_type": "code",
   "execution_count": null,
   "metadata": {
    "_kg_hide-input": true,
    "_kg_hide-output": true,
    "_uuid": "ee2949e005ce12f156096bd7baac84d06de5ab6e",
    "scrolled": false
   },
   "outputs": [],
   "source": [
    "# plot wtih datashader - image with black background\n",
    "import datashader as ds\n",
    "from datashader import transfer_functions as tf\n",
    "from functools import partial\n",
    "from datashader.utils import export_image\n",
    "from IPython.core.display import HTML, display\n",
    "from colorcet import fire, rainbow, bgy, bjy, bkr, kb, kr\n",
    "\n",
    "background = \"black\"\n",
    "export = partial(export_image, background = background, export_path=\"export\")\n",
    "display(HTML(\"<style>.container { width:100% !important; }</style>\"))\n",
    "W = 700 \n",
    "\n",
    "def create_map(data, cmap, data_agg):\n",
    "    pad = (data.x.max() - data.x.min())/50\n",
    "    x_range, y_range = ((data.x.min() - pad, data.x.max() + pad), \n",
    "                             (data.y.min() - pad, data.y.max() + pad))\n",
    "\n",
    "    ratio = (y_range[1] - y_range[0]) / (x_range[1] - x_range[0])\n",
    "\n",
    "    plot_width  = int(W)\n",
    "    plot_height = int(plot_width * ratio)\n",
    "    if ratio > 1.5:\n",
    "        plot_height = 550\n",
    "        plot_width = int(plot_height / ratio)\n",
    "        \n",
    "    cvs = ds.Canvas(plot_width=plot_width, plot_height=plot_height, x_range=x_range, y_range=y_range)\n",
    "\n",
    "    agg = cvs.points(data, 'x', 'y', data_agg)\n",
    "    img = tf.shade(agg, cmap=cmap, how='eq_hist')\n",
    "    return export(img,'img')"
   ]
  },
  {
   "cell_type": "code",
   "execution_count": null,
   "metadata": {
    "_kg_hide-input": true,
    "_uuid": "dc381ad6c75dd9fa05a64db52d79272a3eefbe90",
    "scrolled": false
   },
   "outputs": [],
   "source": [
    "create_map(brazil, rainbow, ds.mean(agg_name))"
   ]
  },
  {
   "cell_type": "markdown",
   "metadata": {
    "_uuid": "f7c289663d0309e6365b333ff8553eb4a32d2762"
   },
   "source": [
    "## Zip Codes in States\n",
    "Lets look at the state of Sao Paulo (SP) to see how zip code prefixes works in a regional level. We see that:\n",
    "* zip code prefixes in Sao Paulo state ranges from 010 to 199\n",
    "* zip codes starting with 0 are in the Sao Paulo metro region\n",
    "* zip codes starting with 1 are in the interior of the state"
   ]
  },
  {
   "cell_type": "code",
   "execution_count": null,
   "metadata": {
    "_kg_hide-input": true,
    "_kg_hide-output": true,
    "_uuid": "9b67b9d65e8014481f43901b03a13cd0068a5c5c",
    "scrolled": false
   },
   "outputs": [],
   "source": [
    "def filter_data(level, name):\n",
    "    df = geo[geo[level] == name]\n",
    "    #remove outliers\n",
    "    df = df[(df.x <= df.x.quantile(0.999)) & (df.x >= df.x.quantile(0.001))]\n",
    "    df = df[(df.y <= df.y.quantile(0.999)) & (df.y >= df.y.quantile(0.001))]\n",
    "    return df"
   ]
  },
  {
   "cell_type": "code",
   "execution_count": null,
   "metadata": {
    "_kg_hide-input": false,
    "_uuid": "890e214d0ac7bc1aa38dc0ab67753522ac4f642c",
    "scrolled": false
   },
   "outputs": [],
   "source": [
    "sp = filter_data('state', 'sp')\n",
    "agg_name = 'zip_code_prefix'\n",
    "sp[agg_name].describe().to_frame()"
   ]
  },
  {
   "cell_type": "code",
   "execution_count": null,
   "metadata": {
    "_kg_hide-input": true,
    "_uuid": "f40e51ea7d7ed9c7b6f935b5cb9fb4209178dda0",
    "scrolled": false
   },
   "outputs": [],
   "source": [
    "agg_name = 'zip_code_prefix'\n",
    "plot_map(sp, 'Zip Codes in Sao Paulo State', ds.min(agg_name), agg_name, cmap=rainbow)"
   ]
  },
  {
   "cell_type": "code",
   "execution_count": null,
   "metadata": {
    "_kg_hide-input": true,
    "_uuid": "8a21a2f8b6d8d7761f803bcf98bd82c842b02dda",
    "scrolled": false
   },
   "outputs": [],
   "source": [
    "create_map(sp, rainbow, ds.mean(agg_name))"
   ]
  },
  {
   "cell_type": "markdown",
   "metadata": {
    "_uuid": "73fed13b729ea9ac4937453378d156318c746292"
   },
   "source": [
    "## Zip Codes in Large Cities \n",
    "Lets look at the city of Sao Paulo to see how zip code prefixes works in a city level. We see that:\n",
    "* zip code prefixes in Sao Paulo city ranges from 010 to 095\n",
    "* zip code prefixes are somehow related to neighborhoods or city districts"
   ]
  },
  {
   "cell_type": "code",
   "execution_count": null,
   "metadata": {
    "_kg_hide-input": false,
    "_uuid": "d94735ac479c27880bddbc60bd33fb24b7009f82",
    "scrolled": false
   },
   "outputs": [],
   "source": [
    "saopaulo = filter_data('city', 'sao paulo')\n",
    "agg_name = 'zip_code_prefix'\n",
    "saopaulo[agg_name].describe().to_frame()"
   ]
  },
  {
   "cell_type": "code",
   "execution_count": null,
   "metadata": {
    "_kg_hide-input": true,
    "_uuid": "693b9e155abdc0b0103818996002bb93d478b8f0",
    "scrolled": false
   },
   "outputs": [],
   "source": [
    "plot_map(saopaulo, 'Zip Codes in Sao Paulo City', ds.min(agg_name), agg_name, cmap=rainbow)"
   ]
  },
  {
   "cell_type": "code",
   "execution_count": null,
   "metadata": {
    "_kg_hide-input": true,
    "_uuid": "b5c67375b6409d80113b772a91bab6c7c18a5de8",
    "scrolled": false
   },
   "outputs": [],
   "source": [
    "create_map(saopaulo, rainbow, ds.mean(agg_name))"
   ]
  },
  {
   "cell_type": "markdown",
   "metadata": {
    "_uuid": "3c8f54a43450aacc950788c859822198f453ba91"
   },
   "source": [
    "## Zip Codes in Small Cities\n",
    "Lets look at the city of Atibaia to see how zip code prefixes works in a city level. We see that:\n",
    "* zip code prefix of Atibaia city is 129\n",
    "* but there are other neighbor cities with the same zip code prefix\n",
    "* to have more detail and go down to a city level we would probably need more zip code digits (the 4th and 5th digit)"
   ]
  },
  {
   "cell_type": "code",
   "execution_count": null,
   "metadata": {
    "_kg_hide-input": false,
    "_uuid": "0237f995bc974639a5f7366fe8fea97cc5e99bba",
    "scrolled": false
   },
   "outputs": [],
   "source": [
    "df = geo[geo['city'] == 'atibaia']\n",
    "agg_name = 'zip_code_prefix'\n",
    "df[agg_name].describe().to_frame()"
   ]
  },
  {
   "cell_type": "code",
   "execution_count": null,
   "metadata": {
    "_kg_hide-input": true,
    "_uuid": "1c7c058eac7b7e5d1c1d7735220e273128f52f68",
    "scrolled": true
   },
   "outputs": [],
   "source": [
    "zip129 = geo[geo[agg_name] == 129]\n",
    "zip129[[agg_name, 'city', 'state']].drop_duplicates()"
   ]
  },
  {
   "cell_type": "code",
   "execution_count": null,
   "metadata": {
    "_kg_hide-input": true,
    "_uuid": "e441ed1f2c545d4330cb5105c4e767a3f249c7c8",
    "scrolled": false
   },
   "outputs": [],
   "source": [
    "def plot_map2(data, label, agg_data, agg_name, cmap):\n",
    "    url=\"http://server.arcgisonline.com/ArcGIS/rest/services/Canvas/World_Dark_Gray_Base/MapServer/tile/{Z}/{Y}/{X}.png\"\n",
    "    geomap = gv.WMTS(url)\n",
    "    points = hv.Points(gv.Dataset(data, kdims=['x', 'y'], vdims=[agg_name]))\n",
    "    agg = datashade(points, element_type=gv.Image, aggregator=agg_data, cmap=cmap)\n",
    "    zip_codes = dynspread(agg, threshold=T, max_px=PX)\n",
    "    img = geomap * zip_codes\n",
    "    img = img.relabel(label)\n",
    "    return img\n",
    "plot_map2(zip129, 'Zip Codes Prefix 129', ds.min(agg_name), agg_name, cmap=rainbow)"
   ]
  },
  {
   "cell_type": "markdown",
   "metadata": {
    "_uuid": "03afd704b48c8a676f31644a5565fc230292e5ae"
   },
   "source": [
    "# Where does most revenue comes from?\n",
    "Plotting the sum of products value grouped by zip code prefix we see that most of the revenue came from the Southeast and South regions of Brazil. It is also possible to see that large cities and capitals, where population is bigger, have larger participation on revenue. "
   ]
  },
  {
   "cell_type": "code",
   "execution_count": null,
   "metadata": {
    "_kg_hide-input": true,
    "_kg_hide-output": true,
    "_uuid": "cc3f7932a3f784112cdef4018fd5dab9bf3822a7",
    "scrolled": false
   },
   "outputs": [],
   "source": [
    "orders = pd.read_csv('../input/olist_public_dataset_v2.csv')\n",
    "brazil_geo = geo.set_index('zip_code_prefix').copy()"
   ]
  },
  {
   "cell_type": "code",
   "execution_count": null,
   "metadata": {
    "_kg_hide-input": true,
    "_kg_hide-output": true,
    "_uuid": "86d1fbb84c3400abea8339ffee5497193f405012",
    "scrolled": false
   },
   "outputs": [],
   "source": [
    "gp = orders.groupby('customer_zip_code_prefix')['order_products_value'].sum().to_frame()\n",
    "revenue = brazil_geo.join(gp)\n",
    "agg_name = 'revenue'\n",
    "revenue[agg_name] = revenue.order_products_value / 1000"
   ]
  },
  {
   "cell_type": "code",
   "execution_count": null,
   "metadata": {
    "_kg_hide-input": true,
    "_uuid": "0014d543803726368f2bea01d661f9e35347c195",
    "scrolled": false
   },
   "outputs": [],
   "source": [
    "plot_map(revenue, 'Orders Revenue (thousands R$)', ds.mean(agg_name), agg_name, cmap=fire)"
   ]
  },
  {
   "cell_type": "code",
   "execution_count": null,
   "metadata": {
    "_kg_hide-input": true,
    "_uuid": "d774d3d59438a6b48b3a9d8afe7f1e765ed266d5",
    "scrolled": false
   },
   "outputs": [],
   "source": [
    "create_map(revenue, fire, ds.mean(agg_name))"
   ]
  },
  {
   "cell_type": "markdown",
   "metadata": {
    "_uuid": "996f8604d22af9dc83ed718dc554df9f52e03e70"
   },
   "source": [
    "# What is the Average Ticket?\n",
    "Here we see something somehow unexpected. Customers of the south and southeast regions of Brazil have lower average ticket, than their peers on north and norteast. This might happen because they have to pay more for freight (let's check that in a moment)"
   ]
  },
  {
   "cell_type": "code",
   "execution_count": null,
   "metadata": {
    "_kg_hide-input": true,
    "_kg_hide-output": true,
    "_uuid": "7e491dd098276fdb20b4334608e8a28e88a3a22b",
    "scrolled": false
   },
   "outputs": [],
   "source": [
    "gp = orders.groupby('order_id').agg({'order_products_value': 'sum', 'customer_zip_code_prefix': 'max'})\n",
    "gp = gp.groupby('customer_zip_code_prefix')['order_products_value'].mean().to_frame()\n",
    "avg_ticket = brazil_geo.join(gp)\n",
    "agg_name = 'avg_ticket'\n",
    "avg_ticket[agg_name] = avg_ticket.order_products_value"
   ]
  },
  {
   "cell_type": "code",
   "execution_count": null,
   "metadata": {
    "_kg_hide-input": true,
    "_uuid": "89d52a95730d6d25784266b6a2e80535ab14039f",
    "scrolled": false
   },
   "outputs": [],
   "source": [
    "plot_map(avg_ticket, 'Orders Average Ticket (R$)', ds.mean(agg_name), agg_name, cmap=bgy)"
   ]
  },
  {
   "cell_type": "code",
   "execution_count": null,
   "metadata": {
    "_kg_hide-input": true,
    "_uuid": "8eee486800b0de92f76a2b3dff7f66fcfb03ce31",
    "scrolled": false
   },
   "outputs": [],
   "source": [
    "create_map(avg_ticket, bgy, ds.mean('avg_ticket'))"
   ]
  },
  {
   "cell_type": "markdown",
   "metadata": {
    "_kg_hide-input": false,
    "_uuid": "104c90553be883fbdc41d31b18c78974eeb1b78b"
   },
   "source": [
    "# Who pays more for transportation?\n",
    "We might find a freight ratio by dividing the freight value by the order value. This ratio indicates the percentage of the product price that a person had to pay just to get their order delivered. For example, if a product costs R\\$50.00 and the freight value was R\\$10.00, then the freight ratio is 0.2 or 20%. Higher freight ratios are very likely to discourage customers to complete a purchase. Due to logistics costs, we expect to see lower freight ratios in densely populated areas and are higher freight ratios on sparsely poulated regions."
   ]
  },
  {
   "cell_type": "code",
   "execution_count": null,
   "metadata": {
    "_kg_hide-input": true,
    "_kg_hide-output": true,
    "_uuid": "fe9b70a7dc53319b44712e4dd662a536477cee53",
    "scrolled": false
   },
   "outputs": [],
   "source": [
    "gp = orders.groupby('order_id').agg({'order_products_value': 'sum', 'order_freight_value': 'sum', 'customer_zip_code_prefix': 'max'})\n",
    "agg_name = 'freight_ratio'\n",
    "gp[agg_name] = gp.order_freight_value / gp.order_products_value\n",
    "gp = gp.groupby('customer_zip_code_prefix')[agg_name].mean().to_frame()\n",
    "freight_ratio = brazil_geo.join(gp)"
   ]
  },
  {
   "cell_type": "code",
   "execution_count": null,
   "metadata": {
    "_kg_hide-input": true,
    "_uuid": "780df9b8df933839846ea33446280f9d375f40cd",
    "scrolled": false
   },
   "outputs": [],
   "source": [
    "plot_map(freight_ratio, 'Orders Average Freight Ratio', ds.mean(agg_name), agg_name, cmap=bgy)"
   ]
  },
  {
   "cell_type": "code",
   "execution_count": null,
   "metadata": {
    "_kg_hide-input": true,
    "_uuid": "6787932f4b0818abb7d4144e520840a7de336577",
    "scrolled": false
   },
   "outputs": [],
   "source": [
    "create_map(freight_ratio, bgy, ds.mean('freight_ratio'))"
   ]
  },
  {
   "cell_type": "markdown",
   "metadata": {
    "_uuid": "f82735bc2027b5e8cc250a36629f215d0af41843"
   },
   "source": [
    "# Average Delivery Time\n",
    "Unfortunately, who lives in the north and northeast of Brazil has to bear with higher freight costs and has to wait longer to receive their purchase."
   ]
  },
  {
   "cell_type": "code",
   "execution_count": null,
   "metadata": {
    "_kg_hide-input": true,
    "_kg_hide-output": true,
    "_uuid": "41f273a5873ef054f7bee7ee438c6db0e9816fc7",
    "scrolled": false
   },
   "outputs": [],
   "source": [
    "orders['order_delivered_customer_date'] = pd.to_datetime(orders.order_delivered_customer_date)\n",
    "orders['order_aproved_at'] = pd.to_datetime(orders.order_aproved_at)\n",
    "orders['actual_delivery_time'] = orders.order_delivered_customer_date - orders.order_aproved_at\n",
    "orders['actual_delivery_time'] = orders['actual_delivery_time'].dt.days"
   ]
  },
  {
   "cell_type": "code",
   "execution_count": null,
   "metadata": {
    "_kg_hide-input": true,
    "_kg_hide-output": true,
    "_uuid": "d34645c27a58ac7bc73191722fe8d4af3e434362",
    "scrolled": false
   },
   "outputs": [],
   "source": [
    "gp = orders.groupby('customer_zip_code_prefix')['actual_delivery_time'].mean().to_frame()\n",
    "delivery_time = brazil_geo.join(gp)\n",
    "agg_name = 'avg_delivery_time'\n",
    "delivery_time[agg_name] = delivery_time['actual_delivery_time']"
   ]
  },
  {
   "cell_type": "code",
   "execution_count": null,
   "metadata": {
    "_kg_hide-input": true,
    "_uuid": "402cc5a5528de01a88a129d2b86661749470756d",
    "scrolled": false
   },
   "outputs": [],
   "source": [
    "plot_map(delivery_time, 'Orders Average Delivery Time (days)', ds.mean(agg_name), agg_name, cmap=bjy)"
   ]
  },
  {
   "cell_type": "code",
   "execution_count": null,
   "metadata": {
    "_kg_hide-input": true,
    "_uuid": "74473f38b9187a2b98b748b419e3d62edc45b9ae",
    "scrolled": false
   },
   "outputs": [],
   "source": [
    "create_map(delivery_time, bjy, ds.mean(agg_name))"
   ]
  },
  {
   "cell_type": "code",
   "execution_count": null,
   "metadata": {
    "_kg_hide-input": true,
    "_kg_hide-output": true,
    "_uuid": "75af2f12af850e1a296c2ececf29934c449bc00b",
    "scrolled": false
   },
   "outputs": [],
   "source": [
    "pr = filter_data('state', 'pr').set_index('zip_code_prefix')\n",
    "gp = orders.groupby('customer_zip_code_prefix')['actual_delivery_time'].mean().to_frame()\n",
    "pr_delivery_time = pr.join(gp)\n",
    "pr_delivery_time[agg_name] = pr_delivery_time['actual_delivery_time']"
   ]
  },
  {
   "cell_type": "markdown",
   "metadata": {
    "_uuid": "b5e71c4f3e15ddd7da8519021a7630bf10ec0e40"
   },
   "source": [
    "Lets look to delivery times at a state level. We filtered only orders from Parana state (PR). It is possible to see that larger cities have lower average delivery times than the smaller ones."
   ]
  },
  {
   "cell_type": "code",
   "execution_count": null,
   "metadata": {
    "_kg_hide-input": true,
    "_uuid": "9cd65419be3f864e10b6b5292f2dc21317de48d9",
    "scrolled": false
   },
   "outputs": [],
   "source": [
    "plot_map(pr_delivery_time, 'Orders Average Delivery Time in Parana State (days)', ds.mean(agg_name), agg_name, cmap=bjy)"
   ]
  },
  {
   "cell_type": "code",
   "execution_count": null,
   "metadata": {
    "_kg_hide-input": true,
    "_uuid": "e0acd75481d95c757d4b061d32d45569dfb308af",
    "scrolled": false
   },
   "outputs": [],
   "source": [
    "create_map(pr_delivery_time, bjy, ds.mean(agg_name))"
   ]
  },
  {
   "cell_type": "markdown",
   "metadata": {
    "_uuid": "740fbab093fc63ce30085939736ce5d5d7f08029"
   },
   "source": [
    "## Interesting Point About Brazilian Suburbs\n",
    "Unlike other countries, in Brazil the richest areas usualy are near downtow and suburbs are know for poverty and high violence rates. Lets explore that in Rio the Janeiro."
   ]
  },
  {
   "cell_type": "code",
   "execution_count": null,
   "metadata": {
    "_kg_hide-input": true,
    "_kg_hide-output": true,
    "_uuid": "80223aba71c1f77954f5fa18142bb3910ad12b2e",
    "scrolled": false
   },
   "outputs": [],
   "source": [
    "riodejaneiro = filter_data('city', 'rio de janeiro').set_index('zip_code_prefix')\n",
    "gp = orders.groupby('customer_zip_code_prefix')['actual_delivery_time'].mean().to_frame()\n",
    "rj_delivery_time = riodejaneiro.join(gp)\n",
    "rj_delivery_time[agg_name] = rj_delivery_time['actual_delivery_time']"
   ]
  },
  {
   "cell_type": "code",
   "execution_count": null,
   "metadata": {
    "_kg_hide-input": true,
    "_uuid": "6d5e39e7b9a387109248862e598dfe4cea0634f3",
    "scrolled": false
   },
   "outputs": [],
   "source": [
    "plot_map(rj_delivery_time, 'Orders Average Delivery Time in Rio de Janeiro (days)', ds.mean(agg_name), agg_name, cmap=bjy)"
   ]
  },
  {
   "cell_type": "code",
   "execution_count": null,
   "metadata": {
    "_kg_hide-input": true,
    "_uuid": "a61b4185c8730cf4e35a46033095e97fbe13a152",
    "scrolled": false
   },
   "outputs": [],
   "source": [
    "create_map(rj_delivery_time, bjy, ds.mean(agg_name))"
   ]
  },
  {
   "cell_type": "markdown",
   "metadata": {
    "_uuid": "7bee31e98f4ee6f81c73dd451d41454c31b9ca1d"
   },
   "source": [
    "It turns out that if you live in rich neighborhoods such as Downtown, Botafogo, Copacabana and Flamengo you are likey to receive your order five days earlier than someone who lives in a poor neighborhood such as Cidade de Deus or Bangu. We see the same pattern in Sao Paulo and Porto Alegre, customers near downtown receive their orders faster than those who lives on suburbs."
   ]
  },
  {
   "cell_type": "code",
   "execution_count": null,
   "metadata": {
    "_kg_hide-input": true,
    "_kg_hide-output": true,
    "_uuid": "c211dc54ab9a937a2331f14a3dccae32c40b9d6c",
    "scrolled": false
   },
   "outputs": [],
   "source": [
    "saopaulo = filter_data('city', 'sao paulo').set_index('zip_code_prefix')\n",
    "gp = orders.groupby('customer_zip_code_prefix')['actual_delivery_time'].mean().to_frame()\n",
    "sp_delivery_time = saopaulo.join(gp)\n",
    "sp_delivery_time[agg_name] = sp_delivery_time['actual_delivery_time']"
   ]
  },
  {
   "cell_type": "code",
   "execution_count": null,
   "metadata": {
    "_kg_hide-input": true,
    "_uuid": "3c5f9443fd815dbc55bdcf9b853e5d27c5a322d7",
    "scrolled": false
   },
   "outputs": [],
   "source": [
    "plot_map(sp_delivery_time, 'Orders Average Delivery Time in Sao Paulo (days)', ds.mean(agg_name), agg_name, cmap=bjy)"
   ]
  },
  {
   "cell_type": "code",
   "execution_count": null,
   "metadata": {
    "_kg_hide-input": true,
    "_uuid": "d5e54428a0498a7f78f2ef7643cc175f0bfc1e3b",
    "scrolled": false
   },
   "outputs": [],
   "source": [
    "create_map(sp_delivery_time, bjy, ds.mean(agg_name))"
   ]
  },
  {
   "cell_type": "code",
   "execution_count": null,
   "metadata": {
    "_kg_hide-input": true,
    "_kg_hide-output": true,
    "_uuid": "1d9e11836d65fa10d4d3c248452b2889641b532c",
    "scrolled": false
   },
   "outputs": [],
   "source": [
    "poa = filter_data('city', 'porto alegre').set_index('zip_code_prefix')\n",
    "gp = orders.groupby('customer_zip_code_prefix')['actual_delivery_time'].mean().to_frame()\n",
    "poa_delivery_time = poa.join(gp)\n",
    "poa_delivery_time[agg_name] = poa_delivery_time['actual_delivery_time']"
   ]
  },
  {
   "cell_type": "code",
   "execution_count": null,
   "metadata": {
    "_kg_hide-input": true,
    "_uuid": "b23ef8cb907fcfa0a0afe63ce7a7df309b55fe2b",
    "scrolled": false
   },
   "outputs": [],
   "source": [
    "plot_map(poa_delivery_time, 'Orders Average Delivery Time in Porto Alegre (days)', ds.mean(agg_name), agg_name, cmap=bjy)"
   ]
  },
  {
   "cell_type": "code",
   "execution_count": null,
   "metadata": {
    "_kg_hide-input": true,
    "_uuid": "f5cabcf7d5abcb6537958c4d4f0858bbc37f71cf",
    "scrolled": false
   },
   "outputs": [],
   "source": [
    "create_map(poa_delivery_time, bjy, ds.mean(agg_name))"
   ]
  },
  {
   "cell_type": "markdown",
   "metadata": {
    "_uuid": "3ad8e91fd7c9305ba70853606c942ccf3a06c29c"
   },
   "source": [
    "# Work in progress...\n",
    "\n",
    "## To do:\n",
    "1. Which categories are most sold.\n",
    "2. Wich payment method was chosen. \n",
    "3. How many installments.\n",
    "4. Analysis on specific cities, such as  Sao Paulo, Porto Alegre, Curitiba, Fortaleza, Bahia, Brasilia. \n",
    "5. Any sugestion?"
   ]
  },
  {
   "cell_type": "code",
   "execution_count": null,
   "metadata": {
    "_uuid": "c5c6891c0700e0abfa3f8c3d20cd1c84c66ee194",
    "scrolled": false
   },
   "outputs": [],
   "source": []
  }
 ],
 "metadata": {
  "kernelspec": {
   "display_name": "Python 3",
   "language": "python",
   "name": "python3"
  },
  "language_info": {
   "codemirror_mode": {
    "name": "ipython",
    "version": 3
   },
   "file_extension": ".py",
   "mimetype": "text/x-python",
   "name": "python",
   "nbconvert_exporter": "python",
   "pygments_lexer": "ipython3",
   "version": "3.7.0"
  }
 },
 "nbformat": 4,
 "nbformat_minor": 1
}
